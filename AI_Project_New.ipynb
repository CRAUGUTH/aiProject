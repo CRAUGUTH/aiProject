{
  "nbformat": 4,
  "nbformat_minor": 0,
  "metadata": {
    "colab": {
      "provenance": [],
      "authorship_tag": "ABX9TyO3UEA07Xyt+9OZ8gMXclma",
      "include_colab_link": true
    },
    "kernelspec": {
      "name": "python3",
      "display_name": "Python 3"
    },
    "language_info": {
      "name": "python"
    }
  },
  "cells": [
    {
      "cell_type": "markdown",
      "metadata": {
        "id": "view-in-github",
        "colab_type": "text"
      },
      "source": [
        "<a href=\"https://colab.research.google.com/github/CRAUGUTH/aiProject/blob/main/AI_Project_New.ipynb\" target=\"_parent\"><img src=\"https://colab.research.google.com/assets/colab-badge.svg\" alt=\"Open In Colab\"/></a>"
      ]
    },
    {
      "cell_type": "markdown",
      "source": [
        "# **Training NN**\n"
      ],
      "metadata": {
        "id": "e55DaojVMuVI"
      }
    },
    {
      "cell_type": "code",
      "source": [
        "# Task 1: Install Libraries\n",
        "!pip install --upgrade spotipy torch pandas scikit-learn transformers librosa\n",
        "\n",
        "# Task 2: Import Libraries\n",
        "import spotipy\n",
        "from spotipy.oauth2 import SpotifyClientCredentials\n",
        "import torch\n",
        "import torch.nn as nn\n",
        "import torch.optim as optim\n",
        "from sklearn.model_selection import train_test_split\n",
        "from sklearn.preprocessing import StandardScaler, LabelEncoder\n",
        "import pandas as pd\n",
        "import numpy as np\n",
        "import joblib"
      ],
      "metadata": {
        "id": "4PYu6ivkHzjj"
      },
      "execution_count": null,
      "outputs": []
    },
    {
      "cell_type": "code",
      "source": [
        "# Task 3: Define Your Model with more layers and dropout\n",
        "class SongMoodClassifier(nn.Module):\n",
        "    def __init__(self, input_size, num_classes):\n",
        "        super(SongMoodClassifier, self).__init__()\n",
        "        self.network = nn.Sequential(\n",
        "            nn.Linear(input_size, 512),\n",
        "            nn.ReLU(),\n",
        "            nn.Dropout(0.5),\n",
        "            nn.Linear(512, 256),\n",
        "            nn.ReLU(),\n",
        "            nn.Dropout(0.5),\n",
        "            nn.Linear(256, 128),\n",
        "            nn.ReLU(),\n",
        "            nn.Dropout(0.5),\n",
        "            nn.Linear(128, num_classes)\n",
        "        )\n",
        "\n",
        "    def forward(self, x):\n",
        "        return self.network(x)"
      ],
      "metadata": {
        "id": "dn3wNUImH1RX"
      },
      "execution_count": null,
      "outputs": []
    },
    {
      "cell_type": "code",
      "source": [
        "# Task 4: Load and Preprocess Data\n",
        "df = pd.read_csv('/content/music_moods.csv')\n",
        "features = df.drop(['id', 'mood'], axis=1).values\n",
        "labels = df['mood'].values\n",
        "\n",
        "label_encoder = LabelEncoder()\n",
        "labels_encoded = label_encoder.fit_transform(labels)\n",
        "\n",
        "scaler = StandardScaler()\n",
        "features_scaled = scaler.fit_transform(features)\n",
        "\n",
        "X_train, X_val, y_train, y_val = train_test_split(features_scaled, labels_encoded, test_size=0.2, random_state=42)"
      ],
      "metadata": {
        "id": "r2mvleWfH94k"
      },
      "execution_count": null,
      "outputs": []
    },
    {
      "cell_type": "code",
      "source": [
        "# Task 5: Train and Validate the Model\n",
        "input_size = X_train.shape[1]\n",
        "num_classes = len(np.unique(labels_encoded))\n",
        "\n",
        "model = SongMoodClassifier(input_size=input_size, num_classes=num_classes)\n",
        "criterion = nn.CrossEntropyLoss()\n",
        "optimizer = optim.Adam(model.parameters(), lr=0.001)\n",
        "batch_size = 65  # You might need to adjust the batch size depending on your dataset\n",
        "\n",
        "# Function to create batches\n",
        "def create_batches(X, y, batch_size):\n",
        "    for i in range(0, len(X), batch_size):\n",
        "        yield X[i:i+batch_size], y[i:i+batch_size]\n",
        "\n",
        "# Training loop\n",
        "num_epochs = 100\n",
        "for epoch in range(num_epochs):\n",
        "    model.train()\n",
        "    for X_batch, y_batch in create_batches(X_train, y_train, batch_size):\n",
        "        inputs = torch.FloatTensor(X_batch)\n",
        "        targets = torch.LongTensor(y_batch)\n",
        "\n",
        "        optimizer.zero_grad()\n",
        "        outputs = model(inputs)\n",
        "        loss = criterion(outputs, targets)\n",
        "        loss.backward()\n",
        "        optimizer.step()\n",
        "\n",
        "    # Validation loop\n",
        "    if epoch % 10 == 0:  # Validate every 10 epochs\n",
        "        model.eval()\n",
        "        val_losses = []\n",
        "        val_accuracies = []\n",
        "        for X_batch, y_batch in create_batches(X_val, y_val, batch_size):\n",
        "            inputs = torch.FloatTensor(X_batch)\n",
        "            targets = torch.LongTensor(y_batch)\n",
        "            with torch.no_grad():\n",
        "                outputs = model(inputs)\n",
        "                val_loss = criterion(outputs, targets)\n",
        "                val_losses.append(val_loss.item())\n",
        "\n",
        "                _, predicted = torch.max(outputs, 1)\n",
        "                val_accuracy = (predicted == targets).sum().item() / targets.size(0)\n",
        "                val_accuracies.append(val_accuracy)\n",
        "\n",
        "        avg_val_loss = np.mean(val_losses)\n",
        "        avg_val_accuracy = np.mean(val_accuracies)\n",
        "        print(f'Epoch {epoch+1}/{num_epochs}, Validation Loss: {avg_val_loss}, Validation Accuracy: {avg_val_accuracy}')"
      ],
      "metadata": {
        "id": "G9jvdS8QIpoF"
      },
      "execution_count": null,
      "outputs": []
    },
    {
      "cell_type": "code",
      "source": [
        "# Task 6: Save the Model and Preprocessors\n",
        "torch.save(model.state_dict(), 'song_mood_classifier.pth')\n",
        "joblib.dump(label_encoder, 'label_encoder.joblib')\n",
        "joblib.dump(scaler, 'scaler.joblib')"
      ],
      "metadata": {
        "id": "FAyzEyDPL7j2"
      },
      "execution_count": null,
      "outputs": []
    },
    {
      "cell_type": "markdown",
      "source": [
        "# **Music Classification**"
      ],
      "metadata": {
        "id": "VnpGNQDHM4G1"
      }
    },
    {
      "cell_type": "code",
      "source": [],
      "metadata": {
        "id": "w7mJzMQkM-pm"
      },
      "execution_count": null,
      "outputs": []
    },
    {
      "cell_type": "markdown",
      "source": [
        "# **Playlist Generation**"
      ],
      "metadata": {
        "id": "4CWeUJg7M_gt"
      }
    },
    {
      "cell_type": "code",
      "source": [],
      "metadata": {
        "id": "nEwwBJoPND1L"
      },
      "execution_count": null,
      "outputs": []
    }
  ]
}