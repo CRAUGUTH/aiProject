{
  "nbformat": 4,
  "nbformat_minor": 0,
  "metadata": {
    "colab": {
      "provenance": [],
      "mount_file_id": "19C115YOikRXYQDQWR5GP1cXfjArWMqmN",
      "authorship_tag": "ABX9TyMOlAqmCjG5bVXob9aTN3/v",
      "include_colab_link": true
    },
    "kernelspec": {
      "name": "python3",
      "display_name": "Python 3"
    },
    "language_info": {
      "name": "python"
    }
  },
  "cells": [
    {
      "cell_type": "markdown",
      "metadata": {
        "id": "view-in-github",
        "colab_type": "text"
      },
      "source": [
        "<a href=\"https://colab.research.google.com/github/CRAUGUTH/aiProject/blob/main/Music_Organization.ipynb\" target=\"_parent\"><img src=\"https://colab.research.google.com/assets/colab-badge.svg\" alt=\"Open In Colab\"/></a>"
      ]
    },
    {
      "cell_type": "markdown",
      "source": [
        "# **Training NN**\n"
      ],
      "metadata": {
        "id": "e55DaojVMuVI"
      }
    },
    {
      "cell_type": "markdown",
      "source": [
        "## Installing and Importing Libraries"
      ],
      "metadata": {
        "id": "qvkM8zxavLps"
      }
    },
    {
      "cell_type": "code",
      "source": [
        "# Task 1: Install Libraries\n",
        "!pip install --upgrade spotipy torch pandas scikit-learn transformers librosa gdown\n",
        "\n",
        "# Task 2: Import Libraries\n",
        "import spotipy\n",
        "from spotipy.oauth2 import SpotifyClientCredentials\n",
        "import torch\n",
        "import torch.nn as nn\n",
        "import torch.optim as optim\n",
        "from sklearn.model_selection import train_test_split\n",
        "from sklearn.preprocessing import StandardScaler, LabelEncoder\n",
        "import pandas as pd\n",
        "import numpy as np\n",
        "import joblib\n",
        "import gdown"
      ],
      "metadata": {
        "id": "4PYu6ivkHzjj"
      },
      "execution_count": null,
      "outputs": []
    },
    {
      "cell_type": "markdown",
      "source": [
        "## Defining the Model"
      ],
      "metadata": {
        "id": "EAAE0jF8v9gc"
      }
    },
    {
      "cell_type": "markdown",
      "source": [
        "As described within my progress report 2, I came across many issues when it came to using/implimented pre-trained models on HuggingFace. Because of these probelms I desided to train my own model to classify music based on emotion. My first model was linear, resulting in only a 50% success rate, thus I desided to add multiple layers to the model."
      ],
      "metadata": {
        "id": "cXuXR8kNwEK4"
      }
    },
    {
      "cell_type": "code",
      "source": [
        "# Task 3: Define Your Model with a modified architecture and dropout\n",
        "class SongMoodClassifier(nn.Module):\n",
        "    def __init__(self, input_size, num_classes):\n",
        "        super(SongMoodClassifier, self).__init__()\n",
        "        self.network = nn.Sequential(\n",
        "            nn.Linear(input_size, 256),\n",
        "            nn.ReLU(),\n",
        "            nn.BatchNorm1d(256),\n",
        "            nn.Dropout(0.2),\n",
        "            nn.Linear(256, 128),\n",
        "            nn.ReLU(),\n",
        "            nn.BatchNorm1d(128),\n",
        "            nn.Dropout(0.2),\n",
        "            nn.Linear(128, num_classes)\n",
        "        )\n",
        "\n",
        "    def forward(self, x):\n",
        "        return self.network(x)"
      ],
      "metadata": {
        "id": "dn3wNUImH1RX"
      },
      "execution_count": 21,
      "outputs": []
    },
    {
      "cell_type": "markdown",
      "source": [
        "## Load and Preprocess Data"
      ],
      "metadata": {
        "id": "rSL0t0NfxINr"
      }
    },
    {
      "cell_type": "markdown",
      "source": [
        "Since I had to create my own model to classify music, that means that I also had to find my own data to train the model. This resulting in me searching the web for a dataset which contained the spotify song_id, mood, and the spotify song features. While searching for this I came across a dataset on Kaggle which conatined all this information\n",
        "\n",
        "Kaggle Link: https://www.kaggle.com/code/muhammadghazimuharam/music-mood-classification\n",
        "\n",
        "I then downloaded this data to Google Sheets where I then cleaned it up a bit and then uploaded it to my Google Colab Notebook"
      ],
      "metadata": {
        "id": "RbgCwEAyxPqR"
      }
    },
    {
      "cell_type": "code",
      "source": [
        "# Task 4: Load and Preprocess Data\n",
        "df = pd.read_csv('/content/music_moods.csv')\n",
        "features = df.drop(['id', 'mood'], axis=1).values\n",
        "labels = df['mood'].values\n",
        "\n",
        "label_encoder = LabelEncoder()\n",
        "labels_encoded = label_encoder.fit_transform(labels)\n",
        "\n",
        "scaler = StandardScaler()\n",
        "features_scaled = scaler.fit_transform(features)\n",
        "\n",
        "X_train, X_val, y_train, y_val = train_test_split(features_scaled, labels_encoded, test_size=0.2, random_state=42)"
      ],
      "metadata": {
        "id": "r2mvleWfH94k"
      },
      "execution_count": 22,
      "outputs": []
    },
    {
      "cell_type": "markdown",
      "source": [
        "## Train and Validate the Model"
      ],
      "metadata": {
        "id": "-kxe9exCGT--"
      }
    },
    {
      "cell_type": "markdown",
      "source": [
        "Here I am  training the model based on the data from the csv file then I am also validating it to make sure the model is atleast 80% accurate. Some modification that I made was that the training will now stop if the accuracy stops improving, then it'll also show you the final accuracy of the model once the training is complete."
      ],
      "metadata": {
        "id": "vmwbAyIGGXR1"
      }
    },
    {
      "cell_type": "code",
      "source": [
        "# Task 5: Train and Validate the Model\n",
        "input_size = X_train.shape[1]\n",
        "num_classes = len(np.unique(labels_encoded))\n",
        "\n",
        "model = SongMoodClassifier(input_size=input_size, num_classes=num_classes)\n",
        "criterion = nn.CrossEntropyLoss()\n",
        "optimizer = optim.Adam(model.parameters(), lr=0.0005)  # Adjusted learning rate\n",
        "\n",
        "# Adding a learning rate scheduler\n",
        "scheduler = optim.lr_scheduler.StepLR(optimizer, step_size=20, gamma=0.1)\n",
        "\n",
        "batch_size = 65  # Adjust if needed\n",
        "\n",
        "# Function to create batches\n",
        "def create_batches(X, y, batch_size):\n",
        "    for i in range(0, len(X), batch_size):\n",
        "        yield X[i:i+batch_size], y[i:i+batch_size]\n",
        "\n",
        "# Early stopping criteria\n",
        "early_stopping_patience = 10\n",
        "no_improvement_epochs = 0\n",
        "best_val_accuracy = 0\n",
        "\n",
        "# Training loop\n",
        "num_epochs = 100\n",
        "for epoch in range(num_epochs):\n",
        "    model.train()\n",
        "    for X_batch, y_batch in create_batches(X_train, y_train, batch_size):\n",
        "        inputs = torch.FloatTensor(X_batch)\n",
        "        targets = torch.LongTensor(y_batch)\n",
        "\n",
        "        optimizer.zero_grad()\n",
        "        outputs = model(inputs)\n",
        "        loss = criterion(outputs, targets)\n",
        "        loss.backward()\n",
        "        optimizer.step()\n",
        "\n",
        "    # Validation loop with early stopping\n",
        "    model.eval()\n",
        "    val_losses = []\n",
        "    val_accuracies = []\n",
        "    for X_batch, y_batch in create_batches(X_val, y_val, batch_size):\n",
        "        inputs = torch.FloatTensor(X_batch)\n",
        "        targets = torch.LongTensor(y_batch)\n",
        "        with torch.no_grad():\n",
        "            outputs = model(inputs)\n",
        "            val_loss = criterion(outputs, targets)\n",
        "            val_losses.append(val_loss.item())\n",
        "\n",
        "            _, predicted = torch.max(outputs, 1)\n",
        "            val_accuracy = (predicted == targets).sum().item() / targets.size(0)\n",
        "            val_accuracies.append(val_accuracy)\n",
        "\n",
        "    avg_val_loss = np.mean(val_losses)\n",
        "    avg_val_accuracy = np.mean(val_accuracies)\n",
        "    print(f'Epoch {epoch+1}/{num_epochs}, Validation Loss: {avg_val_loss}, Validation Accuracy: {avg_val_accuracy}')\n",
        "\n",
        "    # Check if current validation accuracy is better and reset no_improvement_epochs\n",
        "    if avg_val_accuracy > best_val_accuracy:\n",
        "        best_val_accuracy = avg_val_accuracy\n",
        "        no_improvement_epochs = 0\n",
        "    else:\n",
        "        no_improvement_epochs += 1\n",
        "\n",
        "    if no_improvement_epochs >= early_stopping_patience:\n",
        "        print(\"Stopping early due to no improvement\")\n",
        "        break\n",
        "\n",
        "    # Update the learning rate\n",
        "    scheduler.step()\n",
        "\n",
        "# After the training loop, print the final accuracy\n",
        "print(f'Final Validation Accuracy: {best_val_accuracy:.4f}')"
      ],
      "metadata": {
        "id": "G9jvdS8QIpoF",
        "colab": {
          "base_uri": "https://localhost:8080/"
        },
        "outputId": "1e5b942d-4b1c-485d-d3bb-950e60484017"
      },
      "execution_count": 30,
      "outputs": [
        {
          "output_type": "stream",
          "name": "stdout",
          "text": [
            "Epoch 1/100, Validation Loss: 1.0300576289494832, Validation Accuracy: 0.5826923076923077\n",
            "Epoch 2/100, Validation Loss: 0.7119933366775513, Validation Accuracy: 0.6705128205128205\n",
            "Epoch 3/100, Validation Loss: 0.551711748043696, Validation Accuracy: 0.7480769230769231\n",
            "Epoch 4/100, Validation Loss: 0.4758959114551544, Validation Accuracy: 0.7737179487179487\n",
            "Epoch 5/100, Validation Loss: 0.4409123162428538, Validation Accuracy: 0.783974358974359\n",
            "Epoch 6/100, Validation Loss: 0.42175376911958057, Validation Accuracy: 0.7891025641025641\n",
            "Epoch 7/100, Validation Loss: 0.41086926062901813, Validation Accuracy: 0.7891025641025641\n",
            "Epoch 8/100, Validation Loss: 0.4105342427889506, Validation Accuracy: 0.7942307692307692\n",
            "Epoch 9/100, Validation Loss: 0.41039355595906574, Validation Accuracy: 0.7993589743589743\n",
            "Epoch 10/100, Validation Loss: 0.40862559775511426, Validation Accuracy: 0.7942307692307692\n",
            "Epoch 11/100, Validation Loss: 0.41942672928174335, Validation Accuracy: 0.8096153846153845\n",
            "Epoch 12/100, Validation Loss: 0.4122330794731776, Validation Accuracy: 0.8044871794871794\n",
            "Epoch 13/100, Validation Loss: 0.41051676869392395, Validation Accuracy: 0.7891025641025641\n",
            "Epoch 14/100, Validation Loss: 0.4133508751789729, Validation Accuracy: 0.7942307692307692\n",
            "Epoch 15/100, Validation Loss: 0.4203534771998723, Validation Accuracy: 0.7942307692307692\n",
            "Epoch 16/100, Validation Loss: 0.4124269336462021, Validation Accuracy: 0.8512820512820513\n",
            "Epoch 17/100, Validation Loss: 0.4150120367606481, Validation Accuracy: 0.8512820512820513\n",
            "Epoch 18/100, Validation Loss: 0.41935408115386963, Validation Accuracy: 0.819871794871795\n",
            "Epoch 19/100, Validation Loss: 0.4176557610432307, Validation Accuracy: 0.8096153846153845\n",
            "Epoch 20/100, Validation Loss: 0.42059676349163055, Validation Accuracy: 0.7993589743589743\n",
            "Epoch 21/100, Validation Loss: 0.4209559808174769, Validation Accuracy: 0.7993589743589743\n",
            "Epoch 22/100, Validation Loss: 0.42055169741312665, Validation Accuracy: 0.7993589743589743\n",
            "Epoch 23/100, Validation Loss: 0.42197111745675403, Validation Accuracy: 0.7993589743589743\n",
            "Epoch 24/100, Validation Loss: 0.4219082097212474, Validation Accuracy: 0.7993589743589743\n",
            "Epoch 25/100, Validation Loss: 0.42177649835745495, Validation Accuracy: 0.7993589743589743\n",
            "Epoch 26/100, Validation Loss: 0.42115290462970734, Validation Accuracy: 0.7993589743589743\n",
            "Stopping early due to no improvement\n",
            "Final Validation Accuracy: 0.8513\n"
          ]
        }
      ]
    },
    {
      "cell_type": "markdown",
      "source": [
        "Here I am just saving the model so that I can use it to classify songs from one of my spotify playlists"
      ],
      "metadata": {
        "id": "UUlc6_0GGmUx"
      }
    },
    {
      "cell_type": "code",
      "source": [
        "# Task 6: Save the Model and Preprocessors\n",
        "torch.save(model.state_dict(), 'song_mood_classifier.pth')\n",
        "joblib.dump(label_encoder, 'label_encoder.joblib')\n",
        "joblib.dump(scaler, 'scaler.joblib')"
      ],
      "metadata": {
        "id": "FAyzEyDPL7j2",
        "colab": {
          "base_uri": "https://localhost:8080/"
        },
        "outputId": "328f5617-2e68-4a0a-dc2b-1b1fd3e3743d"
      },
      "execution_count": 31,
      "outputs": [
        {
          "output_type": "execute_result",
          "data": {
            "text/plain": [
              "['scaler.joblib']"
            ]
          },
          "metadata": {},
          "execution_count": 31
        }
      ]
    },
    {
      "cell_type": "markdown",
      "source": [
        "# **Music Classification**"
      ],
      "metadata": {
        "id": "VnpGNQDHM4G1"
      }
    },
    {
      "cell_type": "markdown",
      "source": [
        "## Getting personal playlist for model to classify"
      ],
      "metadata": {
        "id": "g-S_nLkjKQLk"
      }
    },
    {
      "cell_type": "markdown",
      "source": [
        "Get new access token for Spotify account"
      ],
      "metadata": {
        "id": "VlDucaPFJ4qU"
      }
    },
    {
      "cell_type": "code",
      "source": [
        "client = spotipy.oauth2.SpotifyOAuth(\n",
        "    client_id='cce8687d5317494cb81ff7731ccd9a2b',\n",
        "    client_secret='9646e0745dde4bddb7c67b29431a61f0',\n",
        "    redirect_uri='https://example.com/callback/',\n",
        "    scope='playlist-modify-private'\n",
        ")\n",
        "\n",
        "sp = spotipy.Spotify(auth_manager=client)\n",
        "\n",
        "# Get the authorization URL.\n",
        "authorization_url = client.get_authorize_url()\n",
        "\n",
        "# Redirect the user to the authorization URL.\n",
        "print(authorization_url)"
      ],
      "metadata": {
        "id": "w7mJzMQkM-pm",
        "colab": {
          "base_uri": "https://localhost:8080/"
        },
        "outputId": "5810de31-5d1d-4396-b021-d122ee9809ed"
      },
      "execution_count": 39,
      "outputs": [
        {
          "output_type": "stream",
          "name": "stdout",
          "text": [
            "https://accounts.spotify.com/authorize?client_id=cce8687d5317494cb81ff7731ccd9a2b&response_type=code&redirect_uri=https%3A%2F%2Fexample.com%2Fcallback%2F&scope=playlist-modify-private\n"
          ]
        }
      ]
    },
    {
      "cell_type": "markdown",
      "source": [
        "Authorize account"
      ],
      "metadata": {
        "id": "n6tS5yizO6Mm"
      }
    },
    {
      "cell_type": "code",
      "source": [
        "code = \"AQDvEwjq04nIsUnMNM04a1ikfNvTiNhKko1l9kOR-mkQhLtmDF6-e_PU52hY0X2Ny4DO3IHRqHqZuL6SnR-iuPnck8c8Rw528tf_ikxorDDD3TdjF1-Hxhmc0wGvkFeUr9zdSg8e5WFDzYizIyvp3HFnH0HNXx2kYS2xYhu3y0ZYPUB-wtL-m_C0aYNKjOUhl4DCDeGHNAQC6w\"\n",
        "client.get_access_token(code)"
      ],
      "metadata": {
        "id": "DeCEFQejO77c"
      },
      "execution_count": null,
      "outputs": []
    },
    {
      "cell_type": "markdown",
      "source": [
        "Getting playlist from my account I want to classify which is the USA Top Songs"
      ],
      "metadata": {
        "id": "d9kZM2HoKYbN"
      }
    },
    {
      "cell_type": "code",
      "source": [
        "# Get the playlist's ID\n",
        "playlist_id = '37i9dQZEVXbLp5XoPON0wI'\n",
        "\n",
        "# Get the playlist's tracks\n",
        "tracks = sp.playlist_tracks(playlist_id)['items']\n",
        "\n",
        "# Create a list of song IDs\n",
        "song_ids = []\n",
        "for track in tracks:\n",
        "    song_ids.append(track['track']['id'])"
      ],
      "metadata": {
        "id": "_7veZAH-KZAA"
      },
      "execution_count": 42,
      "outputs": []
    },
    {
      "cell_type": "markdown",
      "source": [
        "## Classifying each song in playlist"
      ],
      "metadata": {
        "id": "xKsoKjf3KmCu"
      }
    },
    {
      "cell_type": "markdown",
      "source": [
        "Here I am creating a dictionary of the songs within that playlist. The dictionary contains the key, which is the song_id, and then the song name, artist, and mood."
      ],
      "metadata": {
        "id": "v3xdwK9b9r7T"
      }
    },
    {
      "cell_type": "code",
      "source": [
        "results = {}\n",
        "features_to_use = [\n",
        "    'acousticness', 'danceability', 'energy', 'instrumentalness',\n",
        "    'key', 'liveness', 'loudness', 'speechiness', 'tempo', 'time_signature'\n",
        "]\n",
        "\n",
        "for song_id in song_ids:\n",
        "    # Retrieve song features from Spotify\n",
        "    song_features = sp.audio_features(song_id)[0]\n",
        "\n",
        "    # Retrieve song details from Spotify\n",
        "    track_info = sp.track(song_id)\n",
        "    song_name = track_info['name']\n",
        "    artist_name = track_info['artists'][0]['name']  # Assume there is at least one artist\n",
        "\n",
        "    # Prepare the input tensor for the model\n",
        "    inputs = [song_features[feature] for feature in features_to_use]\n",
        "    inputs_tensor = torch.tensor([inputs], dtype=torch.float32)\n",
        "\n",
        "    # Classify the mood of the song using the model\n",
        "    with torch.no_grad():\n",
        "        outputs = model(inputs_tensor)\n",
        "        _, predicted_class = torch.max(outputs, 1)\n",
        "        predicted_label = label_encoder.inverse_transform([predicted_class.item()])[0]\n",
        "\n",
        "    # Store the results including song name, artist, and mood\n",
        "    results[song_id] = {\n",
        "        'song_name': song_name,\n",
        "        'artist_name': artist_name,\n",
        "        'mood': predicted_label\n",
        "    }\n",
        "\n",
        "# Print the classification results along with song name and artist\n",
        "for song_id, info in results.items():\n",
        "    print(f\"{info['song_name']} by {info['artist_name']}, Mood: {info['mood']}\")"
      ],
      "metadata": {
        "colab": {
          "base_uri": "https://localhost:8080/"
        },
        "id": "dTNFB2BCKsh3",
        "outputId": "bd5d205c-c104-44bc-fc68-c753939ffed8"
      },
      "execution_count": 43,
      "outputs": [
        {
          "output_type": "stream",
          "name": "stdout",
          "text": [
            "Rockin' Around The Christmas Tree by Brenda Lee, Mood: Happy\n",
            "Lovin On Me by Jack Harlow, Mood: Energetic\n",
            "All I Want for Christmas Is You by Mariah Carey, Mood: Energetic\n",
            "Jingle Bell Rock by Bobby Helms, Mood: Energetic\n",
            "My Love Mine All Mine by Mitski, Mood: Happy\n",
            "Last Christmas - Single Version by Wham!, Mood: Energetic\n",
            "It's the Most Wonderful Time of the Year by Andy Williams, Mood: Energetic\n",
            "Stick Season by Noah Kahan, Mood: Energetic\n",
            "I Remember Everything (feat. Kacey Musgraves) by Zach Bryan, Mood: Energetic\n",
            "greedy by Tate McRae, Mood: Energetic\n",
            "Agora Hills by Doja Cat, Mood: Energetic\n",
            "Let It Snow! Let It Snow! Let It Snow! by Dean Martin, Mood: Energetic\n",
            "A Holly Jolly Christmas by Burl Ives, Mood: Energetic\n",
            "Is It Over Now? (Taylor's Version) (From The Vault) by Taylor Swift, Mood: Energetic\n",
            "Cruel Summer by Taylor Swift, Mood: Energetic\n",
            "It's Beginning to Look a Lot like Christmas by Michael Bublé, Mood: Energetic\n",
            "500lbs by Lil Tecca, Mood: Energetic\n",
            "IDGAF (feat. Yeat) by Drake, Mood: Energetic\n",
            "Paint The Town Red by Doja Cat, Mood: Energetic\n",
            "White Christmas - 1947 Version by Bing Crosby, Mood: Energetic\n",
            "Can’t Catch Me Now - from The Hunger Games: The Ballad of Songbirds & Snakes by Olivia Rodrigo, Mood: Energetic\n",
            "Santa Tell Me by Ariana Grande, Mood: Energetic\n",
            "First Person Shooter (feat. J. Cole) by Drake, Mood: Energetic\n",
            "Something in the Orange by Zach Bryan, Mood: Energetic\n",
            "fukumean by Gunna, Mood: Energetic\n",
            "You’re Losing Me (From The Vault) by Taylor Swift, Mood: Calm\n",
            "The Christmas Song (Merry Christmas To You) by Nat King Cole, Mood: Happy\n",
            "Sleigh Ride by The Ronettes, Mood: Energetic\n",
            "Feliz Navidad by José Feliciano, Mood: Energetic\n",
            "Snooze by SZA, Mood: Energetic\n",
            "Underneath the Tree by Kelly Clarkson, Mood: Energetic\n",
            "Last Night by Morgan Wallen, Mood: Energetic\n",
            "It's Beginning to Look a Lot Like Christmas (with Mitchell Ayres & His Orchestra) by Perry Como, Mood: Energetic\n",
            "Holly Jolly Christmas by Michael Bublé, Mood: Energetic\n",
            "Jingle Bells - Remastered 1999 by Frank Sinatra, Mood: Energetic\n",
            "I KNOW ? by Travis Scott, Mood: Energetic\n",
            "Kill Bill by SZA, Mood: Energetic\n",
            "HARLEY QUINN by Fuerza Regida, Mood: Energetic\n",
            "MONACO by Bad Bunny, Mood: Energetic\n",
            "exes by Tate McRae, Mood: Energetic\n",
            "Pink + White by Frank Ocean, Mood: Energetic\n",
            "No Role Modelz by J. Cole, Mood: Energetic\n",
            "Now That We Don't Talk (Taylor's Version) (From The Vault) by Taylor Swift, Mood: Energetic\n",
            "vampire by Olivia Rodrigo, Mood: Energetic\n",
            "Blue Christmas by Elvis Presley, Mood: Happy\n",
            "See You Again (feat. Kali Uchis) by Tyler, The Creator, Mood: Energetic\n",
            "Christmas (Baby Please Come Home) by Darlene Love, Mood: Energetic\n",
            "Deck The Halls by Nat King Cole, Mood: Energetic\n",
            "Let It Snow! Let It Snow! Let It Snow! (with The B. Swanson Quartet) by Frank Sinatra, Mood: Energetic\n",
            "Rich Baby Daddy (feat. Sexyy Red & SZA) by Drake, Mood: Energetic\n"
          ]
        }
      ]
    },
    {
      "cell_type": "markdown",
      "source": [
        "# **Playlist Generation**"
      ],
      "metadata": {
        "id": "4CWeUJg7M_gt"
      }
    },
    {
      "cell_type": "markdown",
      "source": [
        "Here I have the functions that I use within the UI below"
      ],
      "metadata": {
        "id": "RD1MtsQm-K-F"
      }
    },
    {
      "cell_type": "code",
      "source": [
        "def display_songs_by_mood(results, mood):\n",
        "    matching_songs = [(song_id, info) for song_id, info in results.items() if info['mood'].lower() == mood.lower()]\n",
        "\n",
        "    if not matching_songs:\n",
        "        print(f\"No songs found with the mood: {mood}\")\n",
        "        return []\n",
        "    else:\n",
        "        print(f\"Songs with the mood '{mood}':\")\n",
        "        for song_id, info in matching_songs:\n",
        "            print(f\"{info['song_name']}, by {info['artist_name']}\")\n",
        "        return [song_id for song_id, _ in matching_songs]\n",
        "\n",
        "def create_playlist(sp, user_id, song_ids, playlist_name):\n",
        "    # Create a new playlist\n",
        "    playlist = sp.user_playlist_create(user_id, playlist_name, public=False, description=f'Playlist for {playlist_name} mood')\n",
        "    playlist_id = playlist['id']\n",
        "\n",
        "    # Add songs to the playlist\n",
        "    sp.playlist_add_items(playlist_id, song_ids)\n",
        "    print(f'Playlist \"{playlist_name}\" created with {len(song_ids)} songs.')\n",
        "\n",
        "# Get the current user's ID\n",
        "user_id = sp.current_user()['id']"
      ],
      "metadata": {
        "id": "nEwwBJoPND1L"
      },
      "execution_count": 45,
      "outputs": []
    },
    {
      "cell_type": "markdown",
      "source": [
        "Here is the UI of the program, you can either display the songs of a certain mood and/or create a playlist out of the songs classified under a certain mood."
      ],
      "metadata": {
        "id": "Y42mSyRc-PzL"
      }
    },
    {
      "cell_type": "code",
      "source": [
        "# Interactive menu\n",
        "while True:\n",
        "    print(\"\\nInteractive Music Mood Search:\")\n",
        "    print(\"1. Search for Happy songs\")\n",
        "    print(\"2. Search for Calm songs\")\n",
        "    print(\"3. Search for Sad songs\")\n",
        "    print(\"4. Search for Energetic songs\")\n",
        "    print(\"5. Create playlist from mood\")\n",
        "    print(\"0. Exit\")\n",
        "\n",
        "    choice = input(\"Enter your choice (0-5): \")\n",
        "\n",
        "    if choice == '0':\n",
        "        print(\"Exiting the program\")\n",
        "        break\n",
        "    elif choice in ['1', '2', '3', '4']:\n",
        "        mood_dict = {'1': 'Happy', '2': 'Calm', '3': 'Sad', '4': 'Energetic'}\n",
        "        song_ids = display_songs_by_mood(results, mood_dict[choice])\n",
        "    elif choice == '5':\n",
        "        mood = input(\"Enter the mood for which to create a playlist: \")\n",
        "        song_ids = display_songs_by_mood(results, mood)\n",
        "        if song_ids:\n",
        "            playlist_name = f\"{mood} Mood Songs\"\n",
        "            create_playlist(sp, user_id, song_ids, playlist_name)\n",
        "    else:\n",
        "        print(\"Invalid choice. Please enter a number between 0 and 5.\")"
      ],
      "metadata": {
        "id": "t24QkqRRxT8l"
      },
      "execution_count": null,
      "outputs": []
    }
  ]
}