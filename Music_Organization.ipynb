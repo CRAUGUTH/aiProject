{
  "nbformat": 4,
  "nbformat_minor": 0,
  "metadata": {
    "colab": {
      "provenance": [],
      "mount_file_id": "19C115YOikRXYQDQWR5GP1cXfjArWMqmN",
      "authorship_tag": "ABX9TyPDHldd2o84YOmGOyZHPKtz",
      "include_colab_link": true
    },
    "kernelspec": {
      "name": "python3",
      "display_name": "Python 3"
    },
    "language_info": {
      "name": "python"
    }
  },
  "cells": [
    {
      "cell_type": "markdown",
      "metadata": {
        "id": "view-in-github",
        "colab_type": "text"
      },
      "source": [
        "<a href=\"https://colab.research.google.com/github/CRAUGUTH/aiProject/blob/main/Music_Organization.ipynb\" target=\"_parent\"><img src=\"https://colab.research.google.com/assets/colab-badge.svg\" alt=\"Open In Colab\"/></a>"
      ]
    },
    {
      "cell_type": "markdown",
      "source": [
        "# **Training NN**\n"
      ],
      "metadata": {
        "id": "e55DaojVMuVI"
      }
    },
    {
      "cell_type": "markdown",
      "source": [
        "## Installing and Importing Libraries"
      ],
      "metadata": {
        "id": "qvkM8zxavLps"
      }
    },
    {
      "cell_type": "code",
      "source": [
        "# Task 1: Install Libraries\n",
        "!pip install --upgrade spotipy torch pandas scikit-learn transformers librosa gdown\n",
        "\n",
        "# Task 2: Import Libraries\n",
        "import spotipy\n",
        "from spotipy.oauth2 import SpotifyClientCredentials\n",
        "import torch\n",
        "import torch.nn as nn\n",
        "import torch.optim as optim\n",
        "from sklearn.model_selection import train_test_split\n",
        "from sklearn.preprocessing import StandardScaler, LabelEncoder\n",
        "import pandas as pd\n",
        "import numpy as np\n",
        "import joblib\n",
        "import gdown"
      ],
      "metadata": {
        "id": "4PYu6ivkHzjj"
      },
      "execution_count": null,
      "outputs": []
    },
    {
      "cell_type": "markdown",
      "source": [
        "## Defining the Model"
      ],
      "metadata": {
        "id": "EAAE0jF8v9gc"
      }
    },
    {
      "cell_type": "markdown",
      "source": [
        "As described within my progress report 2, I came across many issues when it came to using/implimented pre-trained models on HuggingFace. Because of these probelms I desided to train my own model to classify music based on emotion. My first model was linear, resulting in only a 50% success rate, thus I desided to add multiple layers to the model."
      ],
      "metadata": {
        "id": "cXuXR8kNwEK4"
      }
    },
    {
      "cell_type": "code",
      "source": [
        "# Task 3: Define Your Model with more layers and dropout\n",
        "class SongMoodClassifier(nn.Module):\n",
        "    def __init__(self, input_size, num_classes):\n",
        "        super(SongMoodClassifier, self).__init__()\n",
        "        self.network = nn.Sequential(\n",
        "            nn.Linear(input_size, 512),\n",
        "            nn.ReLU(),\n",
        "            nn.Dropout(0.5),\n",
        "            nn.Linear(512, 256),\n",
        "            nn.ReLU(),\n",
        "            nn.Dropout(0.5),\n",
        "            nn.Linear(256, 128),\n",
        "            nn.ReLU(),\n",
        "            nn.Dropout(0.5),\n",
        "            nn.Linear(128, num_classes)\n",
        "        )\n",
        "\n",
        "    def forward(self, x):\n",
        "        return self.network(x)"
      ],
      "metadata": {
        "id": "dn3wNUImH1RX"
      },
      "execution_count": 5,
      "outputs": []
    },
    {
      "cell_type": "markdown",
      "source": [
        "## Load and Preprocess Data"
      ],
      "metadata": {
        "id": "rSL0t0NfxINr"
      }
    },
    {
      "cell_type": "markdown",
      "source": [
        "Since I had to create my own model to classify music, that means that I also had to find my own data to train the model. This resulting in me searching the web for a dataset which contained the spotify song_id, mood, and the spotify song features. While searching for this I came across a dataset on Kaggle which conatined all this information\n",
        "\n",
        "Kaggle Link: https://www.kaggle.com/code/muhammadghazimuharam/music-mood-classification\n",
        "\n",
        "I then downloaded this data to Google Sheets where I then cleaned it up a bit and then uploaded it to my Google Colab Notebook"
      ],
      "metadata": {
        "id": "RbgCwEAyxPqR"
      }
    },
    {
      "cell_type": "code",
      "source": [
        "# Task 4: Load and Preprocess Data\n",
        "df = pd.read_csv('/content/music_moods.csv')\n",
        "features = df.drop(['id', 'mood'], axis=1).values\n",
        "labels = df['mood'].values\n",
        "\n",
        "label_encoder = LabelEncoder()\n",
        "labels_encoded = label_encoder.fit_transform(labels)\n",
        "\n",
        "scaler = StandardScaler()\n",
        "features_scaled = scaler.fit_transform(features)\n",
        "\n",
        "X_train, X_val, y_train, y_val = train_test_split(features_scaled, labels_encoded, test_size=0.2, random_state=42)"
      ],
      "metadata": {
        "id": "r2mvleWfH94k"
      },
      "execution_count": 6,
      "outputs": []
    },
    {
      "cell_type": "markdown",
      "source": [
        "## Train and Validate the Model"
      ],
      "metadata": {
        "id": "-kxe9exCGT--"
      }
    },
    {
      "cell_type": "markdown",
      "source": [
        "Here I am just training the model based on the data from the csv file then I am also validating it to make sure the model is atleast 80% accurate"
      ],
      "metadata": {
        "id": "vmwbAyIGGXR1"
      }
    },
    {
      "cell_type": "code",
      "source": [
        "# Task 5: Train and Validate the Model\n",
        "input_size = X_train.shape[1]\n",
        "num_classes = len(np.unique(labels_encoded))\n",
        "\n",
        "model = SongMoodClassifier(input_size=input_size, num_classes=num_classes)\n",
        "criterion = nn.CrossEntropyLoss()\n",
        "optimizer = optim.Adam(model.parameters(), lr=0.001)\n",
        "batch_size = 65  # You might need to adjust the batch size depending on your dataset\n",
        "\n",
        "# Function to create batches\n",
        "def create_batches(X, y, batch_size):\n",
        "    for i in range(0, len(X), batch_size):\n",
        "        yield X[i:i+batch_size], y[i:i+batch_size]\n",
        "\n",
        "# Training loop\n",
        "num_epochs = 100\n",
        "for epoch in range(num_epochs):\n",
        "    model.train()\n",
        "    for X_batch, y_batch in create_batches(X_train, y_train, batch_size):\n",
        "        inputs = torch.FloatTensor(X_batch)\n",
        "        targets = torch.LongTensor(y_batch)\n",
        "\n",
        "        optimizer.zero_grad()\n",
        "        outputs = model(inputs)\n",
        "        loss = criterion(outputs, targets)\n",
        "        loss.backward()\n",
        "        optimizer.step()\n",
        "\n",
        "    # Validation loop\n",
        "    if epoch % 10 == 0:  # Validate every 10 epochs\n",
        "        model.eval()\n",
        "        val_losses = []\n",
        "        val_accuracies = []\n",
        "        for X_batch, y_batch in create_batches(X_val, y_val, batch_size):\n",
        "            inputs = torch.FloatTensor(X_batch)\n",
        "            targets = torch.LongTensor(y_batch)\n",
        "            with torch.no_grad():\n",
        "                outputs = model(inputs)\n",
        "                val_loss = criterion(outputs, targets)\n",
        "                val_losses.append(val_loss.item())\n",
        "\n",
        "                _, predicted = torch.max(outputs, 1)\n",
        "                val_accuracy = (predicted == targets).sum().item() / targets.size(0)\n",
        "                val_accuracies.append(val_accuracy)\n",
        "\n",
        "        avg_val_loss = np.mean(val_losses)\n",
        "        avg_val_accuracy = np.mean(val_accuracies)\n",
        "        print(f'Epoch {epoch+1}/{num_epochs}, Validation Loss: {avg_val_loss}, Validation Accuracy: {avg_val_accuracy}')"
      ],
      "metadata": {
        "id": "G9jvdS8QIpoF",
        "colab": {
          "base_uri": "https://localhost:8080/"
        },
        "outputId": "79804dd9-9c7b-4d9f-d055-43beaed42ce2"
      },
      "execution_count": 7,
      "outputs": [
        {
          "output_type": "stream",
          "name": "stdout",
          "text": [
            "Epoch 1/100, Validation Loss: 0.9211404323577881, Validation Accuracy: 0.6551282051282051\n",
            "Epoch 11/100, Validation Loss: 0.38798391322294873, Validation Accuracy: 0.8256410256410257\n",
            "Epoch 21/100, Validation Loss: 0.39708952109018963, Validation Accuracy: 0.7788461538461539\n",
            "Epoch 31/100, Validation Loss: 0.4111839830875397, Validation Accuracy: 0.7891025641025641\n",
            "Epoch 41/100, Validation Loss: 0.4140947113434474, Validation Accuracy: 0.783974358974359\n",
            "Epoch 51/100, Validation Loss: 0.4439598123232524, Validation Accuracy: 0.7891025641025641\n",
            "Epoch 61/100, Validation Loss: 0.43545720477898914, Validation Accuracy: 0.7942307692307692\n",
            "Epoch 71/100, Validation Loss: 0.44903527200222015, Validation Accuracy: 0.8358974358974359\n",
            "Epoch 81/100, Validation Loss: 0.4664141039053599, Validation Accuracy: 0.8358974358974359\n",
            "Epoch 91/100, Validation Loss: 0.5078436533610026, Validation Accuracy: 0.8358974358974359\n"
          ]
        }
      ]
    },
    {
      "cell_type": "markdown",
      "source": [
        "Here I am just saving the model so that I can use it to classify songs from one of my spotify playlists"
      ],
      "metadata": {
        "id": "UUlc6_0GGmUx"
      }
    },
    {
      "cell_type": "code",
      "source": [
        "# Task 6: Save the Model and Preprocessors\n",
        "torch.save(model.state_dict(), 'song_mood_classifier.pth')\n",
        "joblib.dump(label_encoder, 'label_encoder.joblib')\n",
        "joblib.dump(scaler, 'scaler.joblib')"
      ],
      "metadata": {
        "id": "FAyzEyDPL7j2"
      },
      "execution_count": null,
      "outputs": []
    },
    {
      "cell_type": "markdown",
      "source": [
        "# **Music Classification**"
      ],
      "metadata": {
        "id": "VnpGNQDHM4G1"
      }
    },
    {
      "cell_type": "markdown",
      "source": [
        "## Getting personal playlist for model to classify"
      ],
      "metadata": {
        "id": "g-S_nLkjKQLk"
      }
    },
    {
      "cell_type": "markdown",
      "source": [
        "Get new access token for Spotify account"
      ],
      "metadata": {
        "id": "VlDucaPFJ4qU"
      }
    },
    {
      "cell_type": "code",
      "source": [
        "client = spotipy.oauth2.SpotifyOAuth(client_id='cce8687d5317494cb81ff7731ccd9a2b',\n",
        "                                          client_secret='9646e0745dde4bddb7c67b29431a61f0',\n",
        "                                          redirect_uri='https://example.com/callback/')\n",
        "\n",
        "sp = spotipy.Spotify(auth_manager=client)\n",
        "\n",
        "# Get the authorization URL.\n",
        "authorization_url = client.get_authorize_url()\n",
        "\n",
        "# Redirect the user to the authorization URL.\n",
        "print(authorization_url)"
      ],
      "metadata": {
        "id": "w7mJzMQkM-pm"
      },
      "execution_count": null,
      "outputs": []
    },
    {
      "cell_type": "markdown",
      "source": [
        "Authorize account"
      ],
      "metadata": {
        "id": "n6tS5yizO6Mm"
      }
    },
    {
      "cell_type": "code",
      "source": [
        "code = \"AQD8HOIRWtFUxB0KNXjYfSQ6fgT7ZxFWl6boJYbWoL2BnlU6Q8xT8f9qRiKYD75ZrEQXPzTE7FF7MOxqDSvbe_N5NeHwN3XAs37CjBWGJVHzh_HtcgrdBaY6h_RjoNrHukDZ5Ofvy28KE0AMfke2qCe-t6ewYrP7wW_zOuds-yy7\"\n",
        "client.get_access_token(code)"
      ],
      "metadata": {
        "id": "DeCEFQejO77c"
      },
      "execution_count": null,
      "outputs": []
    },
    {
      "cell_type": "markdown",
      "source": [
        "Getting playlist from my account I want to classify"
      ],
      "metadata": {
        "id": "d9kZM2HoKYbN"
      }
    },
    {
      "cell_type": "code",
      "source": [
        "# Get the playlist's ID\n",
        "playlist_id = '37i9dQZEVXbLp5XoPON0wI'\n",
        "\n",
        "# Get the playlist's tracks\n",
        "tracks = sp.playlist_tracks(playlist_id)['items']\n",
        "\n",
        "# Create a list of song IDs\n",
        "song_ids = []\n",
        "for track in tracks:\n",
        "    song_ids.append(track['track']['id'])"
      ],
      "metadata": {
        "id": "_7veZAH-KZAA"
      },
      "execution_count": 11,
      "outputs": []
    },
    {
      "cell_type": "markdown",
      "source": [
        "## Classifying each song in playlist"
      ],
      "metadata": {
        "id": "xKsoKjf3KmCu"
      }
    },
    {
      "cell_type": "code",
      "source": [
        "results = {}\n",
        "features_to_use = [\n",
        "    'acousticness', 'danceability', 'energy', 'instrumentalness',\n",
        "    'key', 'liveness', 'loudness', 'speechiness', 'tempo', 'time_signature'\n",
        "]\n",
        "\n",
        "for song_id in song_ids:\n",
        "    # Retrieve song features from Spotify\n",
        "    song_features = sp.audio_features(song_id)[0]\n",
        "\n",
        "    # Retrieve song details from Spotify\n",
        "    track_info = sp.track(song_id)\n",
        "    song_name = track_info['name']\n",
        "    artist_name = track_info['artists'][0]['name']  # Assume there is at least one artist\n",
        "\n",
        "    # Prepare the input tensor for the model\n",
        "    inputs = [song_features[feature] for feature in features_to_use]\n",
        "    inputs_tensor = torch.tensor([inputs], dtype=torch.float32)\n",
        "\n",
        "    # Classify the mood of the song using the model\n",
        "    with torch.no_grad():\n",
        "        outputs = model(inputs_tensor)\n",
        "        _, predicted_class = torch.max(outputs, 1)\n",
        "        predicted_label = label_encoder.inverse_transform([predicted_class.item()])[0]\n",
        "\n",
        "    # Store the results including song name, artist, and mood\n",
        "    results[song_id] = {\n",
        "        'song_name': song_name,\n",
        "        'artist_name': artist_name,\n",
        "        'mood': predicted_label\n",
        "    }\n",
        "\n",
        "# Print the classification results along with song name and artist\n",
        "for song_id, info in results.items():\n",
        "    print(f\"{info['song_name']} by {info['artist_name']}, Mood: {info['mood']}\")"
      ],
      "metadata": {
        "colab": {
          "base_uri": "https://localhost:8080/"
        },
        "id": "dTNFB2BCKsh3",
        "outputId": "8e1beeef-349f-44b0-a6a2-719143f655c6"
      },
      "execution_count": 12,
      "outputs": [
        {
          "output_type": "stream",
          "name": "stdout",
          "text": [
            "Is It Over Now? (Taylor's Version) (From The Vault) by Taylor Swift, Mood: Happy\n",
            "Now That We Don't Talk (Taylor's Version) (From The Vault) by Taylor Swift, Mood: Calm\n",
            "I Remember Everything (feat. Kacey Musgraves) by Zach Bryan, Mood: Sad\n",
            "My Love Mine All Mine by Mitski, Mood: Calm\n",
            "IDGAF (feat. Yeat) by Drake, Mood: Happy\n",
            "\"Slut!\" (Taylor's Version) (From The Vault) by Taylor Swift, Mood: Happy\n",
            "Paint The Town Red by Doja Cat, Mood: Sad\n",
            "Stick Season by Noah Kahan, Mood: Happy\n",
            "Cruel Summer by Taylor Swift, Mood: Sad\n",
            "Say Don't Go (Taylor's Version) (From The Vault) by Taylor Swift, Mood: Sad\n",
            "greedy by Tate McRae, Mood: Calm\n",
            "Agora Hills by Doja Cat, Mood: Calm\n",
            "MONACO by Bad Bunny, Mood: Sad\n",
            "fukumean by Gunna, Mood: Sad\n",
            "500lbs by Lil Tecca, Mood: Sad\n",
            "Something in the Orange by Zach Bryan, Mood: Calm\n",
            "First Person Shooter (feat. J. Cole) by Drake, Mood: Sad\n",
            "Last Night by Morgan Wallen, Mood: Sad\n",
            "Standing Next to You by Jung Kook, Mood: Happy\n",
            "Suburban Legends (Taylor's Version) (From The Vault) by Taylor Swift, Mood: Sad\n",
            "I KNOW ? by Travis Scott, Mood: Happy\n",
            "Snooze by SZA, Mood: Sad\n",
            "vampire by Olivia Rodrigo, Mood: Sad\n",
            "HARLEY QUINN by Fuerza Regida, Mood: Calm\n",
            "Style (Taylor's Version) by Taylor Swift, Mood: Sad\n",
            "PERRO NEGRO by Bad Bunny, Mood: Sad\n",
            "Can’t Catch Me Now - from The Hunger Games: The Ballad of Songbirds & Snakes by Olivia Rodrigo, Mood: Sad\n",
            "Strangers by Kenya Grace, Mood: Sad\n",
            "Kill Bill by SZA, Mood: Sad\n",
            "Water by Tyla, Mood: Sad\n",
            "Rich Baby Daddy (feat. Sexyy Red & SZA) by Drake, Mood: Sad\n",
            "White Christmas - 1947 Version by Bing Crosby, Mood: Sad\n",
            "No Role Modelz by J. Cole, Mood: Sad\n",
            "Seven (feat. Latto) (Explicit Ver.) by Jung Kook, Mood: Sad\n",
            "Thinkin’ Bout Me by Morgan Wallen, Mood: Happy\n",
            "Wildest Dreams (Taylor's Version) by Taylor Swift, Mood: Sad\n",
            "LADY GAGA by Peso Pluma, Mood: Sad\n",
            "See You Again (feat. Kali Uchis) by Tyler, The Creator, Mood: Sad\n",
            "Pink + White by Frank Ocean, Mood: Calm\n",
            "All I Want for Christmas Is You by Mariah Carey, Mood: Happy\n",
            "Blank Space (Taylor's Version) by Taylor Swift, Mood: Sad\n",
            "Out Of The Woods (Taylor's Version) by Taylor Swift, Mood: Calm\n",
            "Sweater Weather by The Neighbourhood, Mood: Sad\n",
            "Que Onda by Calle 24, Mood: Sad\n",
            "bad idea right? by Olivia Rodrigo, Mood: Sad\n",
            "Ella Baila Sola by Eslabon Armado, Mood: Happy\n",
            "You Proof by Morgan Wallen, Mood: Happy\n",
            "Welcome To New York (Taylor's Version) by Taylor Swift, Mood: Sad\n",
            "QLONA by KAROL G, Mood: Sad\n",
            "Wasted On You by Morgan Wallen, Mood: Sad\n"
          ]
        }
      ]
    },
    {
      "cell_type": "markdown",
      "source": [
        "# **Playlist Generation**"
      ],
      "metadata": {
        "id": "4CWeUJg7M_gt"
      }
    },
    {
      "cell_type": "code",
      "source": [
        "def display_songs_by_mood(results, mood):\n",
        "    matching_songs = [(song_id, info) for song_id, info in results.items() if info['mood'].lower() == mood.lower()]\n",
        "\n",
        "    if not matching_songs:\n",
        "        print(f\"No songs found with the mood: {mood}\")\n",
        "    else:\n",
        "        print(f\"Songs with the mood '{mood}':\")\n",
        "        for song_id, info in matching_songs:\n",
        "            print(f\"{info['song_name']}, by {info['artist_name']}\")"
      ],
      "metadata": {
        "id": "nEwwBJoPND1L"
      },
      "execution_count": 17,
      "outputs": []
    },
    {
      "cell_type": "code",
      "source": [
        "# Interactive menu\n",
        "while True:\n",
        "    print(\"\\nInteractive Music Mood Search:\")\n",
        "    print(\"1. Search for Happy songs\")\n",
        "    print(\"2. Search for Calm songs\")\n",
        "    print(\"3. Search for Sad songs\")\n",
        "    print(\"4. Search for Energetic songs\")\n",
        "    print(\"0. Exit\")\n",
        "\n",
        "    choice = input(\"Enter your choice (0-4): \")\n",
        "\n",
        "    if choice == '0':\n",
        "        print(\"Exiting the program\")\n",
        "        break\n",
        "    elif choice == '1':\n",
        "        display_songs_by_mood(results, 'Happy')\n",
        "    elif choice == '2':\n",
        "        display_songs_by_mood(results, 'Calm')\n",
        "    elif choice == '3':\n",
        "        display_songs_by_mood(results, 'Sad')\n",
        "    elif choice == '4':\n",
        "        display_songs_by_mood(results, 'Energetic')\n",
        "    else:\n",
        "        print(\"Invalid choice. Please enter a number between 0 and 4.\")"
      ],
      "metadata": {
        "colab": {
          "base_uri": "https://localhost:8080/"
        },
        "id": "t24QkqRRxT8l",
        "outputId": "d0bdf272-8ef3-4cee-a510-0afdaffd1a89"
      },
      "execution_count": 19,
      "outputs": [
        {
          "output_type": "stream",
          "name": "stdout",
          "text": [
            "\n",
            "Interactive Music Mood Search:\n",
            "1. Search for Happy songs\n",
            "2. Search for Calm songs\n",
            "3. Search for Sad songs\n",
            "4. Search for Energetic songs\n",
            "0. Exit\n",
            "Enter your choice (0-4): 1\n",
            "Songs with the mood 'Happy':\n",
            "Is It Over Now? (Taylor's Version) (From The Vault), by Taylor Swift\n",
            "IDGAF (feat. Yeat), by Drake\n",
            "\"Slut!\" (Taylor's Version) (From The Vault), by Taylor Swift\n",
            "Stick Season, by Noah Kahan\n",
            "Standing Next to You, by Jung Kook\n",
            "I KNOW ?, by Travis Scott\n",
            "Thinkin’ Bout Me, by Morgan Wallen\n",
            "All I Want for Christmas Is You, by Mariah Carey\n",
            "Ella Baila Sola, by Eslabon Armado\n",
            "You Proof, by Morgan Wallen\n",
            "\n",
            "Interactive Music Mood Search:\n",
            "1. Search for Happy songs\n",
            "2. Search for Calm songs\n",
            "3. Search for Sad songs\n",
            "4. Search for Energetic songs\n",
            "0. Exit\n",
            "Enter your choice (0-4): 0\n",
            "Exiting the program\n"
          ]
        }
      ]
    }
  ]
}